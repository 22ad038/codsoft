{
  "nbformat": 4,
  "nbformat_minor": 0,
  "metadata": {
    "colab": {
      "provenance": [],
      "authorship_tag": "ABX9TyNd8CBmBqMihT+UDRXT8epF",
      "include_colab_link": true
    },
    "kernelspec": {
      "name": "python3",
      "display_name": "Python 3"
    },
    "language_info": {
      "name": "python"
    }
  },
  "cells": [
    {
      "cell_type": "markdown",
      "metadata": {
        "id": "view-in-github",
        "colab_type": "text"
      },
      "source": [
        "<a href=\"https://colab.research.google.com/github/22ad038/codsoft/blob/main/codsoft1.ipynb\" target=\"_parent\"><img src=\"https://colab.research.google.com/assets/colab-badge.svg\" alt=\"Open In Colab\"/></a>"
      ]
    },
    {
      "cell_type": "code",
      "source": [
        "def calculate(num1, num2, operator):\n",
        "    if operator == \"addtion\":\n",
        "        return num1 + num2\n",
        "    elif operator == \"subration\":\n",
        "        return num1 - num2\n",
        "    elif operator == \"multiplication\":\n",
        "        return num1 * num2\n",
        "    elif operator == \"division\":\n",
        "        if num2 == 0:\n",
        "            return \"Cannot divide by zero\"\n",
        "        return num1 / num2\n",
        "    else:\n",
        "        return \"retry with correct operation\"\n",
        "\n",
        "try:\n",
        "    num1 = float(input(\"Enter the first number: \"))\n",
        "    num2 = float(input(\"Enter the second number: \"))\n",
        "    operator = input(\"Enter the operator \\n addtion \\n subration \\n multiplication  \\n  division \\n\")\n",
        "\n",
        "\n",
        "    result = calculate(num1, num2, operator)\n",
        "    print(f\"Result: {result}\")\n",
        "except ValueError:\n",
        "    print(\"Invalid input. Please enter valid numbers.\")"
      ],
      "metadata": {
        "colab": {
          "base_uri": "https://localhost:8080/"
        },
        "id": "utgH0cW7kuaD",
        "outputId": "3225f022-e85c-431a-d039-91475c2c16db"
      },
      "execution_count": null,
      "outputs": [
        {
          "output_type": "stream",
          "name": "stdout",
          "text": [
            "Enter the first number: 4\n",
            "Enter the second number: 6\n",
            "Enter the operator \n",
            " addtion \n",
            " subration \n",
            " multiplication  \n",
            "  division \n",
            "addtion\n",
            "Result: 10.0\n"
          ]
        }
      ]
    }
  ]
}