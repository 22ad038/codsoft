{
  "nbformat": 4,
  "nbformat_minor": 0,
  "metadata": {
    "colab": {
      "provenance": [],
      "authorship_tag": "ABX9TyNtIda/waEaHIGkLCs2c6tV",
      "include_colab_link": true
    },
    "kernelspec": {
      "name": "python3",
      "display_name": "Python 3"
    },
    "language_info": {
      "name": "python"
    }
  },
  "cells": [
    {
      "cell_type": "markdown",
      "metadata": {
        "id": "view-in-github",
        "colab_type": "text"
      },
      "source": [
        "<a href=\"https://colab.research.google.com/github/22ad038/codsoft/blob/main/codsoft2.ipynb\" target=\"_parent\"><img src=\"https://colab.research.google.com/assets/colab-badge.svg\" alt=\"Open In Colab\"/></a>"
      ]
    },
    {
      "cell_type": "code",
      "execution_count": null,
      "metadata": {
        "colab": {
          "base_uri": "https://localhost:8080/"
        },
        "id": "8GmQAsXblO61",
        "outputId": "1a66f712-517a-40d4-a8d5-b16c541a2973"
      },
      "outputs": [
        {
          "output_type": "stream",
          "name": "stdout",
          "text": [
            "Rock, Paper, Scissors\n",
            "Enter your choice (rock, paper, scissors): paper\n",
            "You chose paper. Computer chose paper.\n",
            "It's a tie!\n",
            "Your Score: 0  Computer Score: 0\n",
            "Do you want to play again? (yes/no): no\n",
            "Thanks for playing!\n"
          ]
        }
      ],
      "source": [
        "import random\n",
        "\n",
        "def determine_winner(user_choice, computer_choice):\n",
        "    if user_choice == computer_choice:\n",
        "        return \"It's a tie!\"\n",
        "    elif (user_choice == \"rock\" and computer_choice == \"scissors\") or \\\n",
        "         (user_choice == \"scissors\" and computer_choice == \"paper\") or \\\n",
        "         (user_choice == \"paper\" and computer_choice == \"rock\"):\n",
        "        return \"You win!\"\n",
        "    else:\n",
        "        return \"Computer wins!\"\n",
        "\n",
        "def main():\n",
        "    user_score = 0\n",
        "    computer_score = 0\n",
        "\n",
        "    while True:\n",
        "        print(\"Rock, Paper, Scissors\")\n",
        "        user_choice = input(\"Enter your choice (rock, paper, scissors): \").lower()\n",
        "\n",
        "        if user_choice not in [\"rock\", \"paper\", \"scissors\"]:\n",
        "            print(\"Invalid choice. Please choose rock, paper, or scissors.\")\n",
        "            continue\n",
        "\n",
        "        computer_choice = random.choice([\"rock\", \"paper\", \"scissors\"])\n",
        "        print(f\"You chose {user_choice}. Computer chose {computer_choice}.\")\n",
        "\n",
        "        result = determine_winner(user_choice, computer_choice)\n",
        "        print(result)\n",
        "\n",
        "        if \"win\" in result:\n",
        "            user_score += 1\n",
        "        elif \"lose\" in result:\n",
        "            computer_score += 1\n",
        "\n",
        "        print(f\"Your Score: {user_score}  Computer Score: {computer_score}\")\n",
        "\n",
        "        play_again = input(\"Do you want to play again? (yes/no): \").lower()\n",
        "        if play_again != \"yes\":\n",
        "            break\n",
        "\n",
        "    print(\"Thanks for playing!\")\n",
        "\n",
        "if __name__ == \"__main__\":\n",
        "    main()\n"
      ]
    }
  ]
}